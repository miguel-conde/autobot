{
 "cells": [
  {
   "cell_type": "markdown",
   "metadata": {},
   "source": [
    "https://medium.com/@rubentak/unleashing-the-power-of-intelligent-chatbots-with-gpt-4-and-vector-databases-a-step-by-step-8027e2ce9e78"
   ]
  },
  {
   "cell_type": "code",
   "execution_count": 1,
   "metadata": {},
   "outputs": [],
   "source": [
    "import dotenv\n",
    "import openai\n",
    "import os\n",
    "from langchain.text_splitter import RecursiveCharacterTextSplitter\n",
    "from langchain.vectorstores import Chroma\n",
    "from langchain.embeddings import OpenAIEmbeddings\n",
    "from langchain.document_loaders import DirectoryLoader, CSVLoader"
   ]
  },
  {
   "cell_type": "code",
   "execution_count": 2,
   "metadata": {},
   "outputs": [],
   "source": [
    "dotenv.load_dotenv('.env')\n",
    "openai.api_key = os.getenv(\"OPENAI_API_KEY\")"
   ]
  },
  {
   "cell_type": "markdown",
   "metadata": {},
   "source": [
    "# Documents"
   ]
  },
  {
   "cell_type": "code",
   "execution_count": 3,
   "metadata": {},
   "outputs": [
    {
     "data": {
      "text/html": [
       "<div>\n",
       "<style scoped>\n",
       "    .dataframe tbody tr th:only-of-type {\n",
       "        vertical-align: middle;\n",
       "    }\n",
       "\n",
       "    .dataframe tbody tr th {\n",
       "        vertical-align: top;\n",
       "    }\n",
       "\n",
       "    .dataframe thead th {\n",
       "        text-align: right;\n",
       "    }\n",
       "</style>\n",
       "<table border=\"1\" class=\"dataframe\">\n",
       "  <thead>\n",
       "    <tr style=\"text-align: right;\">\n",
       "      <th></th>\n",
       "      <th>FUNCIÓN</th>\n",
       "      <th>OBJETIVO</th>\n",
       "      <th>ARGUMENTOS</th>\n",
       "      <th>RETURN</th>\n",
       "      <th>EJEMPLO</th>\n",
       "    </tr>\n",
       "  </thead>\n",
       "  <tbody>\n",
       "    <tr>\n",
       "      <th>0</th>\n",
       "      <td>R2()</td>\n",
       "      <td>Calcula la bondad del ajuste de un modelo esta...</td>\n",
       "      <td>fit : sm.regression.linear_model.RegressionRes...</td>\n",
       "      <td>float\\nEl coeficiente de determinación R² del ...</td>\n",
       "      <td>NaN</td>\n",
       "    </tr>\n",
       "    <tr>\n",
       "      <th>1</th>\n",
       "      <td>calculate_geom_ad_stock</td>\n",
       "      <td>Calcula el 'ad stock' geométrico de una serie ...</td>\n",
       "      <td>series : List[float]\\nLista de valores que rep...</td>\n",
       "      <td>List[float]\\nLista de valores actualizados rep...</td>\n",
       "      <td>NaN</td>\n",
       "    </tr>\n",
       "  </tbody>\n",
       "</table>\n",
       "</div>"
      ],
      "text/plain": [
       "                   FUNCIÓN                                           OBJETIVO  \\\n",
       "0                     R2()  Calcula la bondad del ajuste de un modelo esta...   \n",
       "1  calculate_geom_ad_stock  Calcula el 'ad stock' geométrico de una serie ...   \n",
       "\n",
       "                                          ARGUMENTOS  \\\n",
       "0  fit : sm.regression.linear_model.RegressionRes...   \n",
       "1  series : List[float]\\nLista de valores que rep...   \n",
       "\n",
       "                                              RETURN  EJEMPLO  \n",
       "0  float\\nEl coeficiente de determinación R² del ...      NaN  \n",
       "1  List[float]\\nLista de valores actualizados rep...      NaN  "
      ]
     },
     "execution_count": 3,
     "metadata": {},
     "output_type": "execute_result"
    }
   ],
   "source": [
    "import pandas as pd\n",
    "\n",
    "df = pd.read_csv('../../mmm/docs/doc_mmm.csv', sep=';')\n",
    "df"
   ]
  },
  {
   "cell_type": "code",
   "execution_count": 4,
   "metadata": {},
   "outputs": [],
   "source": [
    "loader = CSVLoader('../../mmm/docs/doc_mmm.csv', encoding=\"utf-8\", csv_args={'delimiter': ';'})\n",
    "data = loader.load()"
   ]
  },
  {
   "cell_type": "code",
   "execution_count": 5,
   "metadata": {},
   "outputs": [
    {
     "data": {
      "text/plain": [
       "2"
      ]
     },
     "execution_count": 5,
     "metadata": {},
     "output_type": "execute_result"
    }
   ],
   "source": [
    "# Print number of txt files in directory\n",
    "# loader = DirectoryLoader('../../mmm/html/mmm', glob=\"./*.html\")\n",
    "loader = DirectoryLoader(\n",
    "    '../../mmm/docs', \n",
    "    loader_cls=CSVLoader, \n",
    "    loader_kwargs={'encoding': 'utf-8', 'csv_args': {'delimiter': ';'}}\n",
    "    )\n",
    "doc = loader.load ( )\n",
    "len(doc)"
   ]
  },
  {
   "cell_type": "code",
   "execution_count": 6,
   "metadata": {},
   "outputs": [
    {
     "data": {
      "text/plain": [
       "2"
      ]
     },
     "execution_count": 6,
     "metadata": {},
     "output_type": "execute_result"
    }
   ],
   "source": [
    "# Splitting the text into chunks\n",
    "text_splitter = RecursiveCharacterTextSplitter(\n",
    "    chunk_size    = 1000, \n",
    "    chunk_overlap = 200\n",
    "    )\n",
    "texts = text_splitter.split_documents(doc)\n",
    "\n",
    "\n",
    "# Count the number of chunks\n",
    "len(texts)"
   ]
  },
  {
   "cell_type": "code",
   "execution_count": 7,
   "metadata": {},
   "outputs": [
    {
     "data": {
      "text/plain": [
       "[Document(page_content='\\ufeffFUNCIÓN: R2()\\nOBJETIVO: Calcula la bondad del ajuste de un modelo estadístico.\\n\\nEste método calcula el coeficiente de determinación (R²), que es una medida de qué tan bien las variables independientes predicen la variable dependiente. Un R² más alto indica un mejor ajuste del modelo.\\nARGUMENTOS: fit :\\u2002sm.regression.linear_model.RegressionResultsWrapper\\nUn modelo ajustado utilizando la biblioteca statsmodels. Este objeto contiene tanto los residuos como la variable dependiente del modelo.\\nRETURN: float\\nEl coeficiente de determinación R² del modelo.\\nEJEMPLO:', metadata={'source': '..\\\\..\\\\mmm\\\\docs\\\\doc_mmm.csv', 'row': 0}),\n",
       " Document(page_content=\"\\ufeffFUNCIÓN: calculate_geom_ad_stock\\nOBJETIVO: Calcula el 'ad stock' geométrico de una serie de datos aplicando un factor de decaimiento.\\n\\nEl 'ad stock' es un concepto en marketing y economía que representa el impacto acumulado de la publicidad a lo largo del tiempo. Esta función aplica un modelo de ad stock geométrico, donde el efecto de la publicidad se deprecia de forma geométrica en cada período.\\nARGUMENTOS: series :\\u2002List[float]\\nLista de valores que representan la inversión o impacto publicitario en cada período.\\ndecay_factor :\\u2002float\\nFactor de decaimiento que se aplica a la acumulación de ad stock. Si es mayor que 1, se considera como porcentaje y se divide por 100.\\ninitial_value :\\u2002float, optional\\nValor inicial de ad stock. Por defecto es 0.\\nRETURN: List[float]\\nLista de valores actualizados representando el ad stock acumulado.\\nEJEMPLO:\", metadata={'source': '..\\\\..\\\\mmm\\\\docs\\\\doc_mmm.csv', 'row': 1})]"
      ]
     },
     "execution_count": 7,
     "metadata": {},
     "output_type": "execute_result"
    }
   ],
   "source": [
    "texts"
   ]
  },
  {
   "cell_type": "code",
   "execution_count": 8,
   "metadata": {},
   "outputs": [
    {
     "name": "stdout",
     "output_type": "stream",
     "text": [
      "FUNCIÓN: calculate_geom_ad_stock\n",
      "OBJETIVO: Calcula el 'ad stock' geométrico de una serie de datos aplicando un factor de decaimiento.\n",
      "\n",
      "El 'ad stock' es un concepto en marketing y economía que representa el impacto acumulado de la publicidad a lo largo del tiempo. Esta función aplica un modelo de ad stock geométrico, donde el efecto de la publicidad se deprecia de forma geométrica en cada período.\n",
      "ARGUMENTOS: series : List[float]\n",
      "Lista de valores que representan la inversión o impacto publicitario en cada período.\n",
      "decay_factor : float\n",
      "Factor de decaimiento que se aplica a la acumulación de ad stock. Si es mayor que 1, se considera como porcentaje y se divide por 100.\n",
      "initial_value : float, optional\n",
      "Valor inicial de ad stock. Por defecto es 0.\n",
      "RETURN: List[float]\n",
      "Lista de valores actualizados representando el ad stock acumulado.\n",
      "EJEMPLO:\n"
     ]
    }
   ],
   "source": [
    "print(texts[1].page_content)"
   ]
  },
  {
   "cell_type": "markdown",
   "metadata": {},
   "source": [
    "# ChromaDB Database"
   ]
  },
  {
   "cell_type": "code",
   "execution_count": 4,
   "metadata": {},
   "outputs": [
    {
     "name": "stdout",
     "output_type": "stream",
     "text": [
      "Creating VectorDB\n"
     ]
    }
   ],
   "source": [
    "persist_directory = 'db'\n",
    "docs_directory    = '../../mmm/docs'\n",
    "\n",
    "# OpenAI embeddings\n",
    "embedding = OpenAIEmbeddings()\n",
    "\n",
    "if os.path.exists(persist_directory):\n",
    "    # Load the persisted database from disk\n",
    "    print(\"Loading existing Vector DB\")\n",
    "    vectordb = Chroma(\n",
    "        persist_directory  = persist_directory,\n",
    "        embedding_function = embedding\n",
    "        )\n",
    "else:\n",
    "    print(\"Creating VectorDB\")\n",
    "\n",
    "    # Load text in docs\n",
    "    loader = DirectoryLoader(\n",
    "        docs_directory, \n",
    "        loader_cls=CSVLoader, \n",
    "        loader_kwargs={'encoding': 'utf-8', 'csv_args': {'delimiter': ';'}}\n",
    "    )\n",
    "    doc = loader.load()\n",
    "\n",
    "    # Splitting the text into chunks\n",
    "    text_splitter = RecursiveCharacterTextSplitter(\n",
    "        chunk_size    = 1000, \n",
    "        chunk_overlap = 200\n",
    "        )\n",
    "    texts = text_splitter.split_documents(doc)\n",
    "\n",
    "    # Put the text chunks into embeddings in a local Chroma vector database.\n",
    "    # Supplying a persist_directory will store the embeddings on the disk.\n",
    "    vectordb = Chroma.from_documents(\n",
    "        documents         = texts,\n",
    "        embedding         = embedding,\n",
    "        persist_directory = persist_directory\n",
    "        )\n",
    "    \n",
    "    # Persist the db to disk\n",
    "    vectordb.persist()"
   ]
  },
  {
   "cell_type": "code",
   "execution_count": 6,
   "metadata": {},
   "outputs": [
    {
     "data": {
      "text/plain": [
       "[Document(page_content='\\ufeffFUNCIÓN: R2()\\nOBJETIVO: Calcula la bondad del ajuste de un modelo estadístico.\\n\\nEste método calcula el coeficiente de determinación (R²), que es una medida de qué tan bien las variables independientes predicen la variable dependiente. Un R² más alto indica un mejor ajuste del modelo.\\nARGUMENTOS: fit :\\u2002sm.regression.linear_model.RegressionResultsWrapper\\nUn modelo ajustado utilizando la biblioteca statsmodels. Este objeto contiene tanto los residuos como la variable dependiente del modelo.\\nRETURN: float\\nEl coeficiente de determinación R² del modelo.\\nEJEMPLO:', metadata={'source': '..\\\\..\\\\mmm\\\\docs\\\\doc_mmm.csv', 'row': 0}),\n",
       " Document(page_content=\"\\ufeffFUNCIÓN: calculate_geom_ad_stock\\nOBJETIVO: Calcula el 'ad stock' geométrico de una serie de datos aplicando un factor de decaimiento.\\n\\nEl 'ad stock' es un concepto en marketing y economía que representa el impacto acumulado de la publicidad a lo largo del tiempo. Esta función aplica un modelo de ad stock geométrico, donde el efecto de la publicidad se deprecia de forma geométrica en cada período.\\nARGUMENTOS: series :\\u2002List[float]\\nLista de valores que representan la inversión o impacto publicitario en cada período.\\ndecay_factor :\\u2002float\\nFactor de decaimiento que se aplica a la acumulación de ad stock. Si es mayor que 1, se considera como porcentaje y se divide por 100.\\ninitial_value :\\u2002float, optional\\nValor inicial de ad stock. Por defecto es 0.\\nRETURN: List[float]\\nLista de valores actualizados representando el ad stock acumulado.\\nEJEMPLO:\", metadata={'source': '..\\\\..\\\\mmm\\\\docs\\\\doc_mmm.csv', 'row': 1})]"
      ]
     },
     "execution_count": 6,
     "metadata": {},
     "output_type": "execute_result"
    }
   ],
   "source": [
    "texts\n"
   ]
  },
  {
   "cell_type": "markdown",
   "metadata": {},
   "source": [
    "## Retriever"
   ]
  },
  {
   "cell_type": "code",
   "execution_count": 12,
   "metadata": {},
   "outputs": [],
   "source": [
    "# Create retriever\n",
    "retriever = vectordb.as_retriever(\n",
    "    # search_type   = 'mmr',\n",
    "    search_kwargs = {\"k\": 1},\n",
    "    # n_results = 1\n",
    "    )\n",
    "\n",
    "docs = retriever.get_relevant_documents(\"Qué función calcula el ad stock?\")"
   ]
  },
  {
   "cell_type": "code",
   "execution_count": 13,
   "metadata": {},
   "outputs": [
    {
     "name": "stdout",
     "output_type": "stream",
     "text": [
      "FUNCIÓN: calculate_geom_ad_stock\n",
      "OBJETIVO: Calcula el 'ad stock' geométrico de una serie de datos aplicando un factor de decaimiento.\n",
      "\n",
      "El 'ad stock' es un concepto en marketing y economía que representa el impacto acumulado de la publicidad a lo largo del tiempo. Esta función aplica un modelo de ad stock geométrico, donde el efecto de la publicidad se deprecia de forma geométrica en cada período.\n",
      "ARGUMENTOS: series : List[float]\n",
      "Lista de valores que representan la inversión o impacto publicitario en cada período.\n",
      "decay_factor : float\n",
      "Factor de decaimiento que se aplica a la acumulación de ad stock. Si es mayor que 1, se considera como porcentaje y se divide por 100.\n",
      "initial_value : float, optional\n",
      "Valor inicial de ad stock. Por defecto es 0.\n",
      "RETURN: List[float]\n",
      "Lista de valores actualizados representando el ad stock acumulado.\n",
      "EJEMPLO:\n",
      "\n",
      "##########\n",
      "\n",
      "\n"
     ]
    },
    {
     "data": {
      "text/plain": [
       "[None]"
      ]
     },
     "execution_count": 13,
     "metadata": {},
     "output_type": "execute_result"
    }
   ],
   "source": [
    "[print(x.page_content + \"\\n\\n##########\\n\\n\") for x in docs]"
   ]
  },
  {
   "cell_type": "code",
   "execution_count": 14,
   "metadata": {},
   "outputs": [
    {
     "data": {
      "text/plain": [
       "[Document(page_content='\\ufeffFUNCIÓN: R2()\\nOBJETIVO: Calcula la bondad del ajuste de un modelo estadístico.\\n\\nEste método calcula el coeficiente de determinación (R²), que es una medida de qué tan bien las variables independientes predicen la variable dependiente. Un R² más alto indica un mejor ajuste del modelo.\\nARGUMENTOS: fit :\\u2002sm.regression.linear_model.RegressionResultsWrapper\\nUn modelo ajustado utilizando la biblioteca statsmodels. Este objeto contiene tanto los residuos como la variable dependiente del modelo.\\nRETURN: float\\nEl coeficiente de determinación R² del modelo.\\nEJEMPLO:', metadata={'row': 0, 'source': '..\\\\..\\\\mmm\\\\docs\\\\doc_mmm.csv'})]"
      ]
     },
     "execution_count": 14,
     "metadata": {},
     "output_type": "execute_result"
    }
   ],
   "source": [
    "docs = retriever.get_relevant_documents(\"Qué función calcula el coeficiente de determinacion?\")\n",
    "docs\n"
   ]
  },
  {
   "cell_type": "code",
   "execution_count": 15,
   "metadata": {},
   "outputs": [
    {
     "name": "stdout",
     "output_type": "stream",
     "text": [
      "FUNCIÓN: R2()\n",
      "OBJETIVO: Calcula la bondad del ajuste de un modelo estadístico.\n",
      "\n",
      "Este método calcula el coeficiente de determinación (R²), que es una medida de qué tan bien las variables independientes predicen la variable dependiente. Un R² más alto indica un mejor ajuste del modelo.\n",
      "ARGUMENTOS: fit : sm.regression.linear_model.RegressionResultsWrapper\n",
      "Un modelo ajustado utilizando la biblioteca statsmodels. Este objeto contiene tanto los residuos como la variable dependiente del modelo.\n",
      "RETURN: float\n",
      "El coeficiente de determinación R² del modelo.\n",
      "EJEMPLO:\n",
      "\n",
      "##########\n",
      "\n",
      "\n"
     ]
    },
    {
     "data": {
      "text/plain": [
       "[None]"
      ]
     },
     "execution_count": 15,
     "metadata": {},
     "output_type": "execute_result"
    }
   ],
   "source": [
    "[print(x.page_content + \"\\n\\n##########\\n\\n\") for x in docs]"
   ]
  },
  {
   "cell_type": "markdown",
   "metadata": {},
   "source": [
    "# Delete Chroma DB"
   ]
  },
  {
   "cell_type": "code",
   "execution_count": 7,
   "metadata": {},
   "outputs": [
    {
     "ename": "ValueError",
     "evalue": "Collection langchain does not exist.",
     "output_type": "error",
     "traceback": [
      "\u001b[1;31m---------------------------------------------------------------------------\u001b[0m",
      "\u001b[1;31mValueError\u001b[0m                                Traceback (most recent call last)",
      "\u001b[1;32mc:\\Users\\migue\\Documents\\PROYECTOS DATA SCIENCE\\autobot\\PYTHON\\notebooks\\test_retriever.ipynb Cell 20\u001b[0m line \u001b[0;36m1\n\u001b[1;32m----> <a href='vscode-notebook-cell:/c%3A/Users/migue/Documents/PROYECTOS%20DATA%20SCIENCE/autobot/PYTHON/notebooks/test_retriever.ipynb#X24sZmlsZQ%3D%3D?line=0'>1</a>\u001b[0m vectordb\u001b[39m.\u001b[39;49mdelete_collection()\n\u001b[0;32m      <a href='vscode-notebook-cell:/c%3A/Users/migue/Documents/PROYECTOS%20DATA%20SCIENCE/autobot/PYTHON/notebooks/test_retriever.ipynb#X24sZmlsZQ%3D%3D?line=1'>2</a>\u001b[0m vectordb\u001b[39m.\u001b[39mpersist()\n",
      "File \u001b[1;32mc:\\Users\\migue\\Documents\\PROYECTOS DATA SCIENCE\\autobot\\.venv\\Lib\\site-packages\\langchain\\vectorstores\\chroma.py:566\u001b[0m, in \u001b[0;36mChroma.delete_collection\u001b[1;34m(self)\u001b[0m\n\u001b[0;32m    564\u001b[0m \u001b[39mdef\u001b[39;00m \u001b[39mdelete_collection\u001b[39m(\u001b[39mself\u001b[39m) \u001b[39m-\u001b[39m\u001b[39m>\u001b[39m \u001b[39mNone\u001b[39;00m:\n\u001b[0;32m    565\u001b[0m \u001b[39m    \u001b[39m\u001b[39m\"\"\"Delete the collection.\"\"\"\u001b[39;00m\n\u001b[1;32m--> 566\u001b[0m     \u001b[39mself\u001b[39;49m\u001b[39m.\u001b[39;49m_client\u001b[39m.\u001b[39;49mdelete_collection(\u001b[39mself\u001b[39;49m\u001b[39m.\u001b[39;49m_collection\u001b[39m.\u001b[39;49mname)\n",
      "File \u001b[1;32mc:\\Users\\migue\\Documents\\PROYECTOS DATA SCIENCE\\autobot\\.venv\\Lib\\site-packages\\chromadb\\api\\client.py:253\u001b[0m, in \u001b[0;36mClient.delete_collection\u001b[1;34m(self, name)\u001b[0m\n\u001b[0;32m    248\u001b[0m \u001b[39m@override\u001b[39m\n\u001b[0;32m    249\u001b[0m \u001b[39mdef\u001b[39;00m \u001b[39mdelete_collection\u001b[39m(\n\u001b[0;32m    250\u001b[0m     \u001b[39mself\u001b[39m,\n\u001b[0;32m    251\u001b[0m     name: \u001b[39mstr\u001b[39m,\n\u001b[0;32m    252\u001b[0m ) \u001b[39m-\u001b[39m\u001b[39m>\u001b[39m \u001b[39mNone\u001b[39;00m:\n\u001b[1;32m--> 253\u001b[0m     \u001b[39mreturn\u001b[39;00m \u001b[39mself\u001b[39;49m\u001b[39m.\u001b[39;49m_server\u001b[39m.\u001b[39;49mdelete_collection(\n\u001b[0;32m    254\u001b[0m         name\u001b[39m=\u001b[39;49mname,\n\u001b[0;32m    255\u001b[0m         tenant\u001b[39m=\u001b[39;49m\u001b[39mself\u001b[39;49m\u001b[39m.\u001b[39;49mtenant,\n\u001b[0;32m    256\u001b[0m         database\u001b[39m=\u001b[39;49m\u001b[39mself\u001b[39;49m\u001b[39m.\u001b[39;49mdatabase,\n\u001b[0;32m    257\u001b[0m     )\n",
      "File \u001b[1;32mc:\\Users\\migue\\Documents\\PROYECTOS DATA SCIENCE\\autobot\\.venv\\Lib\\site-packages\\chromadb\\telemetry\\opentelemetry\\__init__.py:127\u001b[0m, in \u001b[0;36mtrace_method.<locals>.decorator.<locals>.wrapper\u001b[1;34m(*args, **kwargs)\u001b[0m\n\u001b[0;32m    125\u001b[0m \u001b[39mglobal\u001b[39;00m tracer, granularity\n\u001b[0;32m    126\u001b[0m \u001b[39mif\u001b[39;00m trace_granularity \u001b[39m<\u001b[39m granularity:\n\u001b[1;32m--> 127\u001b[0m     \u001b[39mreturn\u001b[39;00m f(\u001b[39m*\u001b[39;49margs, \u001b[39m*\u001b[39;49m\u001b[39m*\u001b[39;49mkwargs)\n\u001b[0;32m    128\u001b[0m \u001b[39mif\u001b[39;00m \u001b[39mnot\u001b[39;00m tracer:\n\u001b[0;32m    129\u001b[0m     \u001b[39mreturn\u001b[39;00m f(\u001b[39m*\u001b[39margs, \u001b[39m*\u001b[39m\u001b[39m*\u001b[39mkwargs)\n",
      "File \u001b[1;32mc:\\Users\\migue\\Documents\\PROYECTOS DATA SCIENCE\\autobot\\.venv\\Lib\\site-packages\\chromadb\\api\\segment.py:329\u001b[0m, in \u001b[0;36mSegmentAPI.delete_collection\u001b[1;34m(self, name, tenant, database)\u001b[0m\n\u001b[0;32m    327\u001b[0m         \u001b[39mdel\u001b[39;00m \u001b[39mself\u001b[39m\u001b[39m.\u001b[39m_collection_cache[existing[\u001b[39m0\u001b[39m][\u001b[39m\"\u001b[39m\u001b[39mid\u001b[39m\u001b[39m\"\u001b[39m]]\n\u001b[0;32m    328\u001b[0m \u001b[39melse\u001b[39;00m:\n\u001b[1;32m--> 329\u001b[0m     \u001b[39mraise\u001b[39;00m \u001b[39mValueError\u001b[39;00m(\u001b[39mf\u001b[39m\u001b[39m\"\u001b[39m\u001b[39mCollection \u001b[39m\u001b[39m{\u001b[39;00mname\u001b[39m}\u001b[39;00m\u001b[39m does not exist.\u001b[39m\u001b[39m\"\u001b[39m)\n",
      "\u001b[1;31mValueError\u001b[0m: Collection langchain does not exist."
     ]
    }
   ],
   "source": [
    "vectordb.delete_collection()\n",
    "vectordb.persist()"
   ]
  },
  {
   "cell_type": "code",
   "execution_count": 8,
   "metadata": {},
   "outputs": [
    {
     "name": "stderr",
     "output_type": "stream",
     "text": [
      "rm: cannot remove 'db/chroma.sqlite3': Device or resource busy\n"
     ]
    }
   ],
   "source": [
    "# delete the directory\n",
    "!rm -rf db/"
   ]
  },
  {
   "cell_type": "markdown",
   "metadata": {},
   "source": [
    "# TEST"
   ]
  },
  {
   "cell_type": "code",
   "execution_count": 2,
   "metadata": {},
   "outputs": [
    {
     "name": "stdout",
     "output_type": "stream",
     "text": [
      "Loading existing Vector DB\n"
     ]
    }
   ],
   "source": [
    "from utils.docretriever import DocRetriever\n",
    "\n",
    "persist_directory = 'db'\n",
    "docs_directory    = '../../mmm/docs'\n",
    "\n",
    "doc_retriever = DocRetriever(\n",
    "    persist_directory = persist_directory, \n",
    "    docs_directory    = docs_directory,\n",
    "    loader_kwargs = {'encoding': 'utf-8', 'csv_args': {'delimiter': ';'}}\n",
    ")"
   ]
  },
  {
   "cell_type": "code",
   "execution_count": 13,
   "metadata": {},
   "outputs": [
    {
     "name": "stderr",
     "output_type": "stream",
     "text": [
      "Number of requested results 20 is greater than number of elements in index 2, updating n_results = 2\n"
     ]
    },
    {
     "name": "stdout",
     "output_type": "stream",
     "text": [
      "FUNCIÓN: calculate_geom_ad_stock\n",
      "OBJETIVO: Calcula el 'ad stock' geométrico de una serie de datos aplicando un factor de decaimiento.\n",
      "\n",
      "El 'ad stock' es un concepto en marketing y economía que representa el impacto acumulado de la publicidad a lo largo del tiempo. Esta función aplica un modelo de ad stock geométrico, donde el efecto de la publicidad se deprecia de forma geométrica en cada período.\n",
      "ARGUMENTOS: series : List[float]\n",
      "Lista de valores que representan la inversión o impacto publicitario en cada período.\n",
      "decay_factor : float\n",
      "Factor de decaimiento que se aplica a la acumulación de ad stock. Si es mayor que 1, se considera como porcentaje y se divide por 100.\n",
      "initial_value : float, optional\n",
      "Valor inicial de ad stock. Por defecto es 0.\n",
      "RETURN: List[float]\n",
      "Lista de valores actualizados representando el ad stock acumulado.\n",
      "EJEMPLO:\n"
     ]
    }
   ],
   "source": [
    "print(doc_retriever\n",
    "      .retriever\n",
    "      .get_relevant_documents(\"Qué función calcula el ad stock?\")[0]\n",
    "      .page_content)"
   ]
  },
  {
   "cell_type": "code",
   "execution_count": 14,
   "metadata": {},
   "outputs": [
    {
     "name": "stderr",
     "output_type": "stream",
     "text": [
      "Number of requested results 20 is greater than number of elements in index 2, updating n_results = 2\n"
     ]
    },
    {
     "name": "stdout",
     "output_type": "stream",
     "text": [
      "FUNCIÓN: R2()\n",
      "OBJETIVO: Calcula la bondad del ajuste de un modelo estadístico.\n",
      "\n",
      "Este método calcula el coeficiente de determinación (R²), que es una medida de qué tan bien las variables independientes predicen la variable dependiente. Un R² más alto indica un mejor ajuste del modelo.\n",
      "ARGUMENTOS: fit : sm.regression.linear_model.RegressionResultsWrapper\n",
      "Un modelo ajustado utilizando la biblioteca statsmodels. Este objeto contiene tanto los residuos como la variable dependiente del modelo.\n",
      "RETURN: float\n",
      "El coeficiente de determinación R² del modelo.\n",
      "EJEMPLO:\n"
     ]
    }
   ],
   "source": [
    "print(doc_retriever\n",
    "      .retriever\n",
    "      .get_relevant_documents(\"Qué función calcula el coeficiente de determinacion?\")[0]\n",
    "      .page_content)"
   ]
  },
  {
   "cell_type": "code",
   "execution_count": 3,
   "metadata": {},
   "outputs": [
    {
     "name": "stdout",
     "output_type": "stream",
     "text": [
      "Loading existing Vector DB\n"
     ]
    }
   ],
   "source": [
    "doc_retriever = DocRetriever(\n",
    "    persist_directory = persist_directory, \n",
    "    docs_directory    = docs_directory,\n",
    "    k = 2,\n",
    "    loader_kwargs = {'encoding': 'utf-8', 'csv_args': {'delimiter': ';'}}\n",
    ")"
   ]
  },
  {
   "cell_type": "code",
   "execution_count": 11,
   "metadata": {},
   "outputs": [
    {
     "name": "stderr",
     "output_type": "stream",
     "text": [
      "Number of requested results 20 is greater than number of elements in index 2, updating n_results = 2\n"
     ]
    },
    {
     "name": "stdout",
     "output_type": "stream",
     "text": [
      "FUNCIÓN: R2()\n",
      "OBJETIVO: Calcula la bondad del ajuste de un modelo estadístico.\n",
      "\n",
      "Este método calcula el coeficiente de determinación (R²), que es una medida de qué tan bien las variables independientes predicen la variable dependiente. Un R² más alto indica un mejor ajuste del modelo.\n",
      "ARGUMENTOS: fit : sm.regression.linear_model.RegressionResultsWrapper\n",
      "Un modelo ajustado utilizando la biblioteca statsmodels. Este objeto contiene tanto los residuos como la variable dependiente del modelo.\n",
      "RETURN: float\n",
      "El coeficiente de determinación R² del modelo.\n",
      "EJEMPLO:\n",
      "\n",
      "########\n",
      "\n",
      "\n",
      "﻿FUNCIÓN: calculate_geom_ad_stock\n",
      "OBJETIVO: Calcula el 'ad stock' geométrico de una serie de datos aplicando un factor de decaimiento.\n",
      "\n",
      "El 'ad stock' es un concepto en marketing y economía que representa el impacto acumulado de la publicidad a lo largo del tiempo. Esta función aplica un modelo de ad stock geométrico, donde el efecto de la publicidad se deprecia de forma geométrica en cada período.\n",
      "ARGUMENTOS: series : List[float]\n",
      "Lista de valores que representan la inversión o impacto publicitario en cada período.\n",
      "decay_factor : float\n",
      "Factor de decaimiento que se aplica a la acumulación de ad stock. Si es mayor que 1, se considera como porcentaje y se divide por 100.\n",
      "initial_value : float, optional\n",
      "Valor inicial de ad stock. Por defecto es 0.\n",
      "RETURN: List[float]\n",
      "Lista de valores actualizados representando el ad stock acumulado.\n",
      "EJEMPLO:\n",
      "\n",
      "########\n",
      "\n",
      "\n",
      "[None, None]\n"
     ]
    }
   ],
   "source": [
    "print([print(x.page_content + \"\\n\\n########\\n\\n\") for x in doc_retriever\n",
    "      .retriever\n",
    "      .get_relevant_documents(\"Aplica el adstock a las variables numericas, ajusta el modelo y calcula su R2\")])\n"
   ]
  }
 ],
 "metadata": {
  "kernelspec": {
   "display_name": ".venv",
   "language": "python",
   "name": "python3"
  },
  "language_info": {
   "codemirror_mode": {
    "name": "ipython",
    "version": 3
   },
   "file_extension": ".py",
   "mimetype": "text/x-python",
   "name": "python",
   "nbconvert_exporter": "python",
   "pygments_lexer": "ipython3",
   "version": "3.11.6"
  }
 },
 "nbformat": 4,
 "nbformat_minor": 2
}
